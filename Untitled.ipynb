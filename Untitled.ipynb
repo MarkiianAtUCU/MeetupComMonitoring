{
 "cells": [
  {
   "cell_type": "code",
   "execution_count": 1,
   "metadata": {
    "pycharm": {
     "name": "#%%\n"
    }
   },
   "outputs": [],
   "source": [
    "import findspark\n",
    "import json\n",
    "import os\n",
    "os.environ['PYSPARK_SUBMIT_ARGS'] = '--packages org.apache.spark:spark-sql-kafka-0-10_2.11:2.4.0 pyspark-shell'\n",
    "findspark.init()\n",
    "\n",
    "from pyspark.sql import SparkSession\n",
    "import pyspark.sql.functions as F\n",
    "import pyspark.sql.types as T\n",
    "from pyspark.sql.functions import col, struct\n",
    "from pyspark.sql.window import Window\n",
    "import datetime\n",
    "import calendar\n",
    "from collections import Counter\n",
    "spark = SparkSession.builder.getOrCreate()"
   ]
  },
  {
   "cell_type": "code",
   "execution_count": 2,
   "metadata": {},
   "outputs": [],
   "source": [
    "df = spark.\\\n",
    "      readStream.\\\n",
    "      format(\"kafka\").\\\n",
    "      option(\"kafka.bootstrap.servers\", \"localhost:9092\").\\\n",
    "      option(\"subscribe\", \"raw-meetups\").\\\n",
    "      option(\"startingOffsets\", \"earliest\").\\\n",
    "      load()"
   ]
  },
  {
   "cell_type": "code",
   "execution_count": 3,
   "metadata": {},
   "outputs": [],
   "source": [
    "struct = T.StructType([\n",
    "    T.StructField('venue', T.StructType([\n",
    "        T.StructField(\"venue_name\", T.StringType()),\n",
    "        T.StructField(\"lon\", T.FloatType()),\n",
    "        T.StructField(\"lat\", T.FloatType()),\n",
    "        T.StructField(\"venue_id\", T.IntegerType())\n",
    "    ])),\n",
    "    T.StructField(\"visibility\", T.StringType()),\n",
    "    T.StructField(\"response\", T.StringType()),\n",
    "    T.StructField(\"guests\", T.IntegerType()),\n",
    "    T.StructField('member', T.StructType([\n",
    "        T.StructField(\"member_id\", T.IntegerType()),\n",
    "        T.StructField(\"photo\", T.StringType()),\n",
    "        T.StructField(\"member_name\", T.StringType())\n",
    "    ])),\n",
    "    T.StructField(\"rsvp_id\", T.IntegerType()),\n",
    "    T.StructField(\"mtime\", T.LongType()),\n",
    "    T.StructField('event', T.StructType([\n",
    "        T.StructField(\"event_name\", T.StringType()),\n",
    "        T.StructField(\"event_id\", T.StringType()),\n",
    "        T.StructField(\"time\", T.LongType()),\n",
    "        T.StructField(\"event_url\", T.StringType())\n",
    "    ])),\n",
    "    T.StructField('group', T.StructType([\n",
    "        T.StructField(\"group_topics\", T.ArrayType(T.StructType([\n",
    "            T.StructField(\"urlkey\", T.StringType()),\n",
    "            T.StructField(\"topic_name\", T.StringType())\n",
    "        ]))),\n",
    "        T.StructField(\"group_city\", T.StringType()),\n",
    "        T.StructField(\"group_country\", T.StringType()),\n",
    "        T.StructField(\"group_id\", T.IntegerType()),\n",
    "        T.StructField(\"group_name\", T.StringType()),\n",
    "        T.StructField(\"group_lon\", T.FloatType()),\n",
    "        T.StructField(\"group_urlname\", T.StringType()),\n",
    "        T.StructField(\"group_state\", T.StringType()),\n",
    "        T.StructField(\"group_lat\", T.FloatType())\n",
    "    ]))\n",
    "])"
   ]
  },
  {
   "cell_type": "code",
   "execution_count": 4,
   "metadata": {},
   "outputs": [],
   "source": [
    "states_names = spark.read.json(\"USstate.json\")"
   ]
  },
  {
   "cell_type": "code",
   "execution_count": 5,
   "metadata": {},
   "outputs": [],
   "source": [
    "json_parsed_df = df.select(\n",
    "    col('timestamp'),\n",
    "    F.from_json(col(\"value\").cast(\"string\"), struct).alias(\"json_parsed\")\n",
    ").filter(col('json_parsed').group.group_country=='us').select(\n",
    "    col('timestamp'),\n",
    "    col('json_parsed.event.event_name'),\n",
    "    col('json_parsed.event.event_id'),\n",
    "    F.from_unixtime(col('json_parsed.event.time')/1000).alias('time'),\n",
    "    'json_parsed.group.group_topics.topic_name',\n",
    "    'json_parsed.group.group_city',\n",
    "    'json_parsed.group.group_country',\n",
    "    'json_parsed.group.group_id',\n",
    "    'json_parsed.group.group_name',\n",
    "    'json_parsed.group.group_state'\n",
    ").join(states_names, col(\"group_state\") == states_names.code)"
   ]
  },
  {
   "cell_type": "code",
   "execution_count": 6,
   "metadata": {},
   "outputs": [
    {
     "data": {
      "text/plain": [
       "<pyspark.sql.streaming.StreamingQuery at 0x7f0a82261780>"
      ]
     },
     "execution_count": 6,
     "metadata": {},
     "output_type": "execute_result"
    }
   ],
   "source": [
    "json_parsed_df.select(\n",
    "    F.struct(\n",
    "        F.struct(\n",
    "            col('event_name'),\n",
    "            col('event_id'),\n",
    "            col('time'),\n",
    "        ).alias('event'),\n",
    "        col('group_city'),\n",
    "        col('group_country'),\n",
    "        col('group_id'),\n",
    "        col('group_name'),\n",
    "        col('name').alias(\"group_state\")\n",
    "    ).alias('res')\n",
    ").select(F.to_json('res').alias('value')).writeStream \\\n",
    ".format(\"kafka\") \\\n",
    ".option(\"kafka.bootstrap.servers\", \"localhost:9092\") \\\n",
    ".option(\"topic\", \"US-meetups\") \\\n",
    ".option(\"checkpointLocation\", \"home/mmatsi/tmp/US-meetups_topick_ckp_2\") \\\n",
    ".start()"
   ]
  },
  {
   "cell_type": "code",
   "execution_count": 7,
   "metadata": {},
   "outputs": [
    {
     "data": {
      "text/plain": [
       "<pyspark.sql.streaming.StreamingQuery at 0x7f0a82224630>"
      ]
     },
     "execution_count": 7,
     "metadata": {},
     "output_type": "execute_result"
    }
   ],
   "source": [
    "json_parsed_df.withWatermark(\"timestamp\", \"1 minute\").groupBy(\n",
    "    F.window(\"timestamp\", \"1 minute\", \"1 minute\")\n",
    ").agg(\n",
    "    F.struct(\n",
    "    \n",
    "    F.month('window.end').alias('month'),\n",
    "    F.dayofmonth('window.end').alias('day_of_the_month'),\n",
    "    F.hour('window.end').alias('hour'),\n",
    "    F.minute('window.end').alias(\"minute\"),\n",
    "    F.collect_list('group_city').alias('cities')\n",
    "    ).alias('res')\n",
    ").select(F.to_json('res').alias('value')).writeStream \\\n",
    ".format(\"kafka\") \\\n",
    ".option(\"kafka.bootstrap.servers\", \"localhost:9092\") \\\n",
    ".option(\"topic\", \"US-cities-every-minute\") \\\n",
    ".option(\"checkpointLocation\", \"home/mmatsi/tmp/US-meetups_topick_ckp2_2\") \\\n",
    ".start()"
   ]
  },
  {
   "cell_type": "code",
   "execution_count": 8,
   "metadata": {},
   "outputs": [
    {
     "data": {
      "text/plain": [
       "<pyspark.sql.streaming.StreamingQuery at 0x7f0a82208710>"
      ]
     },
     "execution_count": 8,
     "metadata": {},
     "output_type": "execute_result"
    }
   ],
   "source": [
    "interesting_topics = F.array([\n",
    "    F.lit('Computer programming'),\n",
    "    F.lit('Big Data'),\n",
    "    F.lit('Machine Learning'),\n",
    "    F.lit('Python'),\n",
    "    F.lit('Java'),\n",
    "    F.lit('Web Development')\n",
    "])\n",
    "\n",
    "json_parsed_df.select(\n",
    "        F.struct(\n",
    "        F.struct(\n",
    "            col('event_name'),\n",
    "            col('event_id'),\n",
    "            col('time'),\n",
    "        ).alias('event'),\n",
    "        col(\"topic_name\").alias(\"group_topics\"),\n",
    "        col('group_city'),\n",
    "        col('group_country'),\n",
    "        col('group_id'),\n",
    "        col('group_name'),\n",
    "        col('name').alias(\"group_state\")\n",
    "    ).alias('res')\n",
    "#     F.struct(\n",
    "#         col('json_parsed.event.event_name').alias('event_name'),\n",
    "#         col('json_parsed.event.event_id').alias('event_id'),\n",
    "#         F.from_unixtime(col('json_parsed.event.time')/1000).alias('time'),\n",
    "#     ).alias('event'),\n",
    "#     col('json_parsed.group.group_topics.topic_name'),\n",
    "#     'json_parsed.group.group_city',\n",
    "#     'json_parsed.group.group_country',\n",
    "#     'json_parsed.group.group_id',\n",
    "#     'json_parsed.group.group_name'\n",
    "#     STATE\n",
    ").filter(F.arrays_overlap('res.group_topics', interesting_topics)).select(F.to_json('res').alias('value')).writeStream \\\n",
    ".format(\"kafka\") \\\n",
    ".option(\"kafka.bootstrap.servers\", \"localhost:9092\") \\\n",
    ".option(\"topic\", \"Programming-meetups\") \\\n",
    ".option(\"checkpointLocation\", \"home/mmatsi/tmp/US-meetups_topick_ckp3_2\") \\\n",
    ".start()"
   ]
  }
 ],
 "metadata": {
  "kernelspec": {
   "display_name": "PyCharm (spark_lab)",
   "language": "python",
   "name": "pycharm-65440466"
  },
  "language_info": {
   "codemirror_mode": {
    "name": "ipython",
    "version": 3
   },
   "file_extension": ".py",
   "mimetype": "text/x-python",
   "name": "python",
   "nbconvert_exporter": "python",
   "pygments_lexer": "ipython3",
   "version": "3.6.9"
  }
 },
 "nbformat": 4,
 "nbformat_minor": 2
}
